{
 "cells": [
  {
   "cell_type": "markdown",
   "id": "1e2db6b6",
   "metadata": {},
   "source": [
    "# Python Variable"
   ]
  },
  {
   "cell_type": "markdown",
   "id": "e4efeef3",
   "metadata": {},
   "source": [
    "- Python Variable is containers that store values. \n",
    "- They act as labels or names that refer to specific memory locations containing the data. \n",
    "- Variables in Python are created when a value is assigned to them using the assignment operator ="
   ]
  },
  {
   "cell_type": "code",
   "execution_count": 4,
   "id": "d188907d",
   "metadata": {},
   "outputs": [
    {
     "name": "stdout",
     "output_type": "stream",
     "text": [
      "This is a variable\n"
     ]
    }
   ],
   "source": [
    "var = \"This is a variable\"\n",
    "print(var)"
   ]
  },
  {
   "cell_type": "code",
   "execution_count": 5,
   "id": "48f474b5",
   "metadata": {},
   "outputs": [
    {
     "name": "stdout",
     "output_type": "stream",
     "text": [
      "25\n",
      "1456.8\n",
      "Arfa\n"
     ]
    }
   ],
   "source": [
    "# An integer assignment\n",
    "age = 25\n",
    " \n",
    "# A floating point\n",
    "salary = 1456.8\n",
    " \n",
    "# A string\n",
    "name = \"Arfa\"\n",
    " \n",
    "print(age)\n",
    "print(salary)\n",
    "print(name)"
   ]
  },
  {
   "cell_type": "markdown",
   "id": "2132066e",
   "metadata": {},
   "source": [
    "# Redeclaring variables in Python"
   ]
  },
  {
   "cell_type": "code",
   "execution_count": 6,
   "id": "ac06f8b7",
   "metadata": {},
   "outputs": [
    {
     "name": "stdout",
     "output_type": "stream",
     "text": [
      "Before declare:  100\n",
      "After re-declare: 120.3\n"
     ]
    }
   ],
   "source": [
    "# declaring the var\n",
    "Number = 100\n",
    " \n",
    "# display\n",
    "print(\"Before declare: \", Number)\n",
    " \n",
    "# re-declare the var\n",
    "Number = 120.3\n",
    "   \n",
    "print(\"After re-declare:\", Number)"
   ]
  },
  {
   "cell_type": "code",
   "execution_count": 8,
   "id": "5004a706",
   "metadata": {},
   "outputs": [
    {
     "name": "stdout",
     "output_type": "stream",
     "text": [
      "a =  10\n",
      "b =  10\n",
      "c =  10\n"
     ]
    }
   ],
   "source": [
    "a = b = c = 10 #assigning values to multiple variables\n",
    " \n",
    "print(\"a = \",a)\n",
    "print(\"b = \",b)\n",
    "print(\"c = \",c)"
   ]
  },
  {
   "cell_type": "code",
   "execution_count": 10,
   "id": "33f88d9c",
   "metadata": {},
   "outputs": [
    {
     "name": "stdout",
     "output_type": "stream",
     "text": [
      "a =  1\n",
      "b =  20.2\n",
      "c =  This is variable\n"
     ]
    }
   ],
   "source": [
    "#Assigning different values to multiple variables\n",
    "\n",
    "a, b, c = 1, 20.2, \"This is variable\" \n",
    "\n",
    "print(\"a = \",a)\n",
    "print(\"b = \",b)\n",
    "print(\"c = \",c)"
   ]
  },
  {
   "cell_type": "markdown",
   "id": "5586670c",
   "metadata": {},
   "source": [
    "# Global and Local Variables"
   ]
  },
  {
   "cell_type": "code",
   "execution_count": 12,
   "id": "89802e4f",
   "metadata": {},
   "outputs": [
    {
     "name": "stdout",
     "output_type": "stream",
     "text": [
      "a : 6\n",
      "b : 5\n",
      "Total inside function: 11\n",
      "Total outside the function: 0\n"
     ]
    }
   ],
   "source": [
    "total = 0           #Global variable\n",
    "def sum(a,b):\n",
    "    print(\"a :\",a)\n",
    "    print(\"b :\",b)\n",
    "    total=a+b       #Local variable\n",
    "    print(\"Total inside function:\", total)\n",
    "    return total\n",
    "\n",
    "n=sum(b=5,a=6)\n",
    "print(\"Total outside the function:\", total)"
   ]
  },
  {
   "cell_type": "code",
   "execution_count": null,
   "id": "3f948f67",
   "metadata": {},
   "outputs": [],
   "source": []
  },
  {
   "cell_type": "code",
   "execution_count": null,
   "id": "70b32feb",
   "metadata": {},
   "outputs": [],
   "source": []
  },
  {
   "cell_type": "code",
   "execution_count": null,
   "id": "f80ff0e9",
   "metadata": {},
   "outputs": [],
   "source": []
  }
 ],
 "metadata": {
  "kernelspec": {
   "display_name": "Python 3 (ipykernel)",
   "language": "python",
   "name": "python3"
  },
  "language_info": {
   "codemirror_mode": {
    "name": "ipython",
    "version": 3
   },
   "file_extension": ".py",
   "mimetype": "text/x-python",
   "name": "python",
   "nbconvert_exporter": "python",
   "pygments_lexer": "ipython3",
   "version": "3.9.13"
  }
 },
 "nbformat": 4,
 "nbformat_minor": 5
}
