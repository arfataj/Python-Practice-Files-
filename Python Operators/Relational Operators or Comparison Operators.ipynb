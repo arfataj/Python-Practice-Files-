{
 "cells": [
  {
   "cell_type": "markdown",
   "id": "0d349f24",
   "metadata": {},
   "source": [
    "- Relational operators are used for comparing the values. \n",
    "- It either returns True or False according to the condition. \n",
    "- These operators are also known as Comparison Operators."
   ]
  },
  {
   "cell_type": "code",
   "execution_count": 1,
   "id": "8455ed7d",
   "metadata": {},
   "outputs": [
    {
     "name": "stdout",
     "output_type": "stream",
     "text": [
      "True\n"
     ]
    }
   ],
   "source": [
    "a = 9\n",
    "b = 5\n",
    "\n",
    "print(a > b) #Greater than"
   ]
  },
  {
   "cell_type": "code",
   "execution_count": 2,
   "id": "0c2d104c",
   "metadata": {},
   "outputs": [
    {
     "name": "stdout",
     "output_type": "stream",
     "text": [
      "False\n"
     ]
    }
   ],
   "source": [
    "a = 9\n",
    "b = 5\n",
    "   \n",
    "print(a < b) #less than"
   ]
  },
  {
   "cell_type": "code",
   "execution_count": 3,
   "id": "8911f883",
   "metadata": {},
   "outputs": [
    {
     "name": "stdout",
     "output_type": "stream",
     "text": [
      "False\n"
     ]
    }
   ],
   "source": [
    "a = 9\n",
    "b = 5\n",
    "\n",
    "print(a == b) #Equal to"
   ]
  },
  {
   "cell_type": "code",
   "execution_count": 4,
   "id": "01c0a36d",
   "metadata": {},
   "outputs": [
    {
     "name": "stdout",
     "output_type": "stream",
     "text": [
      "True\n"
     ]
    }
   ],
   "source": [
    "a = 9\n",
    "b = 5\n",
    "\n",
    "print(a != b) #not equal to"
   ]
  },
  {
   "cell_type": "code",
   "execution_count": 5,
   "id": "c108ff92",
   "metadata": {},
   "outputs": [
    {
     "name": "stdout",
     "output_type": "stream",
     "text": [
      "True\n"
     ]
    }
   ],
   "source": [
    "a = 9\n",
    "b = 5\n",
    "\n",
    "print(a >= b) #Greater than or equal to"
   ]
  },
  {
   "cell_type": "code",
   "execution_count": 6,
   "id": "6b1a35bc",
   "metadata": {},
   "outputs": [
    {
     "name": "stdout",
     "output_type": "stream",
     "text": [
      "False\n"
     ]
    }
   ],
   "source": [
    "a = 9\n",
    "b = 5\n",
    "  \n",
    "# Output \n",
    "print(a <= b) #Less than or equal to"
   ]
  },
  {
   "cell_type": "code",
   "execution_count": null,
   "id": "fff5b5eb",
   "metadata": {},
   "outputs": [],
   "source": []
  },
  {
   "cell_type": "code",
   "execution_count": null,
   "id": "58716a56",
   "metadata": {},
   "outputs": [],
   "source": []
  },
  {
   "cell_type": "code",
   "execution_count": null,
   "id": "361f8a52",
   "metadata": {},
   "outputs": [],
   "source": []
  }
 ],
 "metadata": {
  "kernelspec": {
   "display_name": "Python 3 (ipykernel)",
   "language": "python",
   "name": "python3"
  },
  "language_info": {
   "codemirror_mode": {
    "name": "ipython",
    "version": 3
   },
   "file_extension": ".py",
   "mimetype": "text/x-python",
   "name": "python",
   "nbconvert_exporter": "python",
   "pygments_lexer": "ipython3",
   "version": "3.9.13"
  }
 },
 "nbformat": 4,
 "nbformat_minor": 5
}
