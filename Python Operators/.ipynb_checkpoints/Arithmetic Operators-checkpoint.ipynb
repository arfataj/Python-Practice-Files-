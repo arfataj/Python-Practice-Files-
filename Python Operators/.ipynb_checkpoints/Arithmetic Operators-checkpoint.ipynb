{
 "cells": [
  {
   "cell_type": "markdown",
   "id": "ca73c422",
   "metadata": {},
   "source": [
    "Python Arithmetic Operators are used to perform mathematical operations like addition, subtraction, multiplication, and division."
   ]
  },
  {
   "cell_type": "markdown",
   "id": "481b21f6",
   "metadata": {},
   "source": [
    "# Addition Operator"
   ]
  },
  {
   "cell_type": "code",
   "execution_count": null,
   "id": "38f5484a",
   "metadata": {},
   "outputs": [],
   "source": [
    "# val1 = 2\n",
    "val2 = 3\n",
    " \n",
    "# using the addition operator\n",
    "result = val1 + val2\n",
    "print(result)"
   ]
  },
  {
   "cell_type": "markdown",
   "id": "862906ff",
   "metadata": {},
   "source": [
    "# Subtraction Operator"
   ]
  },
  {
   "cell_type": "code",
   "execution_count": 2,
   "id": "434b9699",
   "metadata": {},
   "outputs": [
    {
     "name": "stdout",
     "output_type": "stream",
     "text": [
      "-1\n"
     ]
    }
   ],
   "source": [
    "val1 = 2\n",
    "val2 = 3\n",
    " \n",
    "# using the subtraction operator\n",
    "result = val1 - val2\n",
    "print(result)"
   ]
  },
  {
   "cell_type": "markdown",
   "id": "f763b08a",
   "metadata": {},
   "source": [
    "# Multiplication Operator"
   ]
  },
  {
   "cell_type": "code",
   "execution_count": 3,
   "id": "efeeb26a",
   "metadata": {},
   "outputs": [
    {
     "name": "stdout",
     "output_type": "stream",
     "text": [
      "6\n"
     ]
    }
   ],
   "source": [
    "val1 = 2\n",
    "val2 = 3\n",
    " \n",
    "# using the multiplication operator\n",
    "result = val1 * val2\n",
    "print(result)"
   ]
  },
  {
   "cell_type": "markdown",
   "id": "dbf95bef",
   "metadata": {},
   "source": [
    "# Division Operator "
   ]
  },
  {
   "cell_type": "code",
   "execution_count": 5,
   "id": "6b618135",
   "metadata": {},
   "outputs": [
    {
     "name": "stdout",
     "output_type": "stream",
     "text": [
      "1.5\n"
     ]
    }
   ],
   "source": [
    "val1 = 3\n",
    "val2 = 2\n",
    " \n",
    "# using the division operator\n",
    "result = val1 / val2\n",
    "print(result)"
   ]
  },
  {
   "cell_type": "markdown",
   "id": "02ff1027",
   "metadata": {},
   "source": [
    "# Modulus Operator"
   ]
  },
  {
   "cell_type": "code",
   "execution_count": 6,
   "id": "a5bb7a46",
   "metadata": {},
   "outputs": [
    {
     "name": "stdout",
     "output_type": "stream",
     "text": [
      "1\n"
     ]
    }
   ],
   "source": [
    "val1 = 3\n",
    "val2 = 2\n",
    " \n",
    "# using the modulus operator\n",
    "result = val1 % val2\n",
    "print(result)"
   ]
  },
  {
   "cell_type": "markdown",
   "id": "ffc1d257",
   "metadata": {},
   "source": [
    "# Exponentiation Operator"
   ]
  },
  {
   "cell_type": "code",
   "execution_count": 7,
   "id": "81e1a32d",
   "metadata": {},
   "outputs": [
    {
     "name": "stdout",
     "output_type": "stream",
     "text": [
      "8\n"
     ]
    }
   ],
   "source": [
    "val1 = 2\n",
    "val2 = 3\n",
    " \n",
    "# using the exponentiation operator\n",
    "result= val1 ** val2\n",
    "print(result)"
   ]
  },
  {
   "cell_type": "markdown",
   "id": "0ec54aec",
   "metadata": {},
   "source": [
    "# Floor Division Operator"
   ]
  },
  {
   "cell_type": "code",
   "execution_count": null,
   "id": "3580efe5",
   "metadata": {},
   "outputs": [],
   "source": [
    "val1 = 3\n",
    "val2 = 2\n",
    " \n",
    "# using the floor division\n",
    "res = val1 // val2\n",
    "print(res)"
   ]
  },
  {
   "cell_type": "code",
   "execution_count": null,
   "id": "e12fce4e",
   "metadata": {},
   "outputs": [],
   "source": []
  },
  {
   "cell_type": "code",
   "execution_count": null,
   "id": "8a96bf38",
   "metadata": {},
   "outputs": [],
   "source": []
  }
 ],
 "metadata": {
  "kernelspec": {
   "display_name": "Python 3 (ipykernel)",
   "language": "python",
   "name": "python3"
  },
  "language_info": {
   "codemirror_mode": {
    "name": "ipython",
    "version": 3
   },
   "file_extension": ".py",
   "mimetype": "text/x-python",
   "name": "python",
   "nbconvert_exporter": "python",
   "pygments_lexer": "ipython3",
   "version": "3.9.13"
  }
 },
 "nbformat": 4,
 "nbformat_minor": 5
}
