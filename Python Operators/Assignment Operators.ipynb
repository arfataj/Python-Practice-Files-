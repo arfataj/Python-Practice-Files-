{
 "cells": [
  {
   "cell_type": "markdown",
   "id": "aa3cac38",
   "metadata": {},
   "source": [
    "Assignment Operators are used to assigning values to variables. "
   ]
  },
  {
   "cell_type": "code",
   "execution_count": 1,
   "id": "e29b4eea",
   "metadata": {},
   "outputs": [
    {
     "name": "stdout",
     "output_type": "stream",
     "text": [
      "8\n"
     ]
    }
   ],
   "source": [
    "a = 3\n",
    "b = 5\n",
    "  \n",
    "c = a + b \n",
    "   \n",
    "print(c)"
   ]
  },
  {
   "cell_type": "markdown",
   "id": "49c16bf4",
   "metadata": {},
   "source": [
    "Add and Assign"
   ]
  },
  {
   "cell_type": "code",
   "execution_count": 3,
   "id": "83280fbc",
   "metadata": {},
   "outputs": [
    {
     "name": "stdout",
     "output_type": "stream",
     "text": [
      "8\n"
     ]
    }
   ],
   "source": [
    "a = 3\n",
    "b = 5\n",
    "  \n",
    "\n",
    "a += b  #a = a + b \n",
    "\n",
    "print(a)"
   ]
  },
  {
   "cell_type": "markdown",
   "id": "d79a6ce2",
   "metadata": {},
   "source": [
    "Subtract and Assign"
   ]
  },
  {
   "cell_type": "code",
   "execution_count": 5,
   "id": "0a93dc1c",
   "metadata": {},
   "outputs": [
    {
     "name": "stdout",
     "output_type": "stream",
     "text": [
      "-2\n"
     ]
    }
   ],
   "source": [
    "a = 3\n",
    "b = 5\n",
    "  \n",
    "a -= b  #a = a - b \n",
    "  \n",
    "print(a)"
   ]
  },
  {
   "cell_type": "markdown",
   "id": "73d3060d",
   "metadata": {},
   "source": [
    "Multiply and Assign"
   ]
  },
  {
   "cell_type": "code",
   "execution_count": 6,
   "id": "17ad445c",
   "metadata": {},
   "outputs": [
    {
     "name": "stdout",
     "output_type": "stream",
     "text": [
      "15\n"
     ]
    }
   ],
   "source": [
    "a = 3\n",
    "b = 5\n",
    "  \n",
    "a *= b  #a = a * b \n",
    "  \n",
    "print(a)"
   ]
  },
  {
   "cell_type": "markdown",
   "id": "93fd4631",
   "metadata": {},
   "source": [
    "Divide and Assign"
   ]
  },
  {
   "cell_type": "code",
   "execution_count": 7,
   "id": "96a63efd",
   "metadata": {},
   "outputs": [
    {
     "name": "stdout",
     "output_type": "stream",
     "text": [
      "0.6\n"
     ]
    }
   ],
   "source": [
    "a = 3\n",
    "b = 5\n",
    "  \n",
    "a /= b  #a = a / b \n",
    "  \n",
    "print(a)"
   ]
  },
  {
   "cell_type": "markdown",
   "id": "61b321cf",
   "metadata": {},
   "source": [
    "Modulus and Assign"
   ]
  },
  {
   "cell_type": "code",
   "execution_count": 8,
   "id": "16fd604c",
   "metadata": {},
   "outputs": [
    {
     "name": "stdout",
     "output_type": "stream",
     "text": [
      "3\n"
     ]
    }
   ],
   "source": [
    "a = 3\n",
    "b = 5\n",
    "  \n",
    "a %= b  #a = a % b \n",
    "\n",
    "print(a)"
   ]
  },
  {
   "cell_type": "markdown",
   "id": "b5426018",
   "metadata": {},
   "source": [
    "Divide (floor) and Assign"
   ]
  },
  {
   "cell_type": "code",
   "execution_count": 9,
   "id": "37ffe4cc",
   "metadata": {},
   "outputs": [
    {
     "name": "stdout",
     "output_type": "stream",
     "text": [
      "0\n"
     ]
    }
   ],
   "source": [
    "a = 3\n",
    "b = 5\n",
    "  \n",
    "a //= b  #a = a // b \n",
    "\n",
    "print(a)"
   ]
  },
  {
   "cell_type": "markdown",
   "id": "d3b72983",
   "metadata": {},
   "source": [
    "Exponent and Assign"
   ]
  },
  {
   "cell_type": "code",
   "execution_count": 10,
   "id": "3bf935f3",
   "metadata": {},
   "outputs": [
    {
     "name": "stdout",
     "output_type": "stream",
     "text": [
      "243\n"
     ]
    }
   ],
   "source": [
    "a = 3\n",
    "b = 5\n",
    "  \n",
    "a **= b  # a = a ** b \n",
    " \n",
    "print(a)"
   ]
  },
  {
   "cell_type": "markdown",
   "id": "0466e231",
   "metadata": {},
   "source": [
    "Bitwise AND and Assign"
   ]
  },
  {
   "cell_type": "code",
   "execution_count": 13,
   "id": "89ad45c4",
   "metadata": {},
   "outputs": [
    {
     "name": "stdout",
     "output_type": "stream",
     "text": [
      "1\n"
     ]
    }
   ],
   "source": [
    "a = 3\n",
    "b = 5\n",
    "   \n",
    "a &= b  #a = a & b\n",
    "\n",
    "print(a)"
   ]
  },
  {
   "cell_type": "markdown",
   "id": "359e43b8",
   "metadata": {},
   "source": [
    "Bitwise OR and Assign"
   ]
  },
  {
   "cell_type": "code",
   "execution_count": 12,
   "id": "48283998",
   "metadata": {},
   "outputs": [
    {
     "name": "stdout",
     "output_type": "stream",
     "text": [
      "7\n"
     ]
    }
   ],
   "source": [
    "a = 3\n",
    "b = 5\n",
    "  \n",
    "a |= b  #a = a | b \n",
    "   \n",
    "print(a)"
   ]
  },
  {
   "cell_type": "markdown",
   "id": "c6c969eb",
   "metadata": {},
   "source": [
    "Bitwise XOR and Assign"
   ]
  },
  {
   "cell_type": "code",
   "execution_count": 14,
   "id": "6b026f3d",
   "metadata": {},
   "outputs": [
    {
     "name": "stdout",
     "output_type": "stream",
     "text": [
      "6\n"
     ]
    }
   ],
   "source": [
    "a = 3\n",
    "b = 5\n",
    "  \n",
    "# a = a ^ b \n",
    "a ^= b \n",
    "  \n",
    "# Output \n",
    "print(a)"
   ]
  },
  {
   "cell_type": "markdown",
   "id": "3637aa33",
   "metadata": {},
   "source": [
    "Bitwise Right Shift and Assign"
   ]
  },
  {
   "cell_type": "code",
   "execution_count": 15,
   "id": "ca54b351",
   "metadata": {},
   "outputs": [
    {
     "name": "stdout",
     "output_type": "stream",
     "text": [
      "0\n"
     ]
    }
   ],
   "source": [
    "a = 3\n",
    "b = 5\n",
    "  \n",
    "# a = a >> b \n",
    "a >>= b \n",
    "  \n",
    "# Output \n",
    "print(a)"
   ]
  },
  {
   "cell_type": "markdown",
   "id": "4881c6dd",
   "metadata": {},
   "source": [
    "Bitwise Left Shift and Assign"
   ]
  },
  {
   "cell_type": "code",
   "execution_count": 16,
   "id": "154dce2e",
   "metadata": {},
   "outputs": [
    {
     "name": "stdout",
     "output_type": "stream",
     "text": [
      "96\n"
     ]
    }
   ],
   "source": [
    "a = 3\n",
    "b = 5\n",
    "  \n",
    "# a = a << b \n",
    "a <<= b \n",
    "  \n",
    "# Output \n",
    "print(a)"
   ]
  },
  {
   "cell_type": "code",
   "execution_count": null,
   "id": "d9b8eb38",
   "metadata": {},
   "outputs": [],
   "source": []
  },
  {
   "cell_type": "code",
   "execution_count": null,
   "id": "781abb7b",
   "metadata": {},
   "outputs": [],
   "source": []
  },
  {
   "cell_type": "code",
   "execution_count": null,
   "id": "9f081d6a",
   "metadata": {},
   "outputs": [],
   "source": []
  }
 ],
 "metadata": {
  "kernelspec": {
   "display_name": "Python 3 (ipykernel)",
   "language": "python",
   "name": "python3"
  },
  "language_info": {
   "codemirror_mode": {
    "name": "ipython",
    "version": 3
   },
   "file_extension": ".py",
   "mimetype": "text/x-python",
   "name": "python",
   "nbconvert_exporter": "python",
   "pygments_lexer": "ipython3",
   "version": "3.9.13"
  }
 },
 "nbformat": 4,
 "nbformat_minor": 5
}
