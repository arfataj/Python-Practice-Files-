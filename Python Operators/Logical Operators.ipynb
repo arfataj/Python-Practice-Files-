{
 "cells": [
  {
   "cell_type": "markdown",
   "id": "8b0f4da4",
   "metadata": {},
   "source": [
    "- Operators are used to perform operations on values and variables. \n",
    "- These are the special symbols that carry out arithmetic and logical computations. \n",
    "- The value the operator operates on is known as the Operand."
   ]
  },
  {
   "cell_type": "markdown",
   "id": "77534eca",
   "metadata": {},
   "source": [
    "# Logical Operators"
   ]
  },
  {
   "cell_type": "markdown",
   "id": "8fbf11b1",
   "metadata": {},
   "source": [
    "Logical operators are used on conditional statements (either True or False). \n",
    "They perform Logical AND, Logical OR, and Logical NOT operations."
   ]
  },
  {
   "cell_type": "markdown",
   "id": "23cfa85a",
   "metadata": {},
   "source": [
    "# Logical AND operator"
   ]
  },
  {
   "cell_type": "code",
   "execution_count": 2,
   "id": "25a055ee",
   "metadata": {},
   "outputs": [
    {
     "name": "stdout",
     "output_type": "stream",
     "text": [
      "Atleast one number has boolean value as False\n"
     ]
    }
   ],
   "source": [
    "a = 10\n",
    "b = 12\n",
    "c = 0\n",
    "if a and b and c: \n",
    "    print(\"All the numbers have boolean value as True\") \n",
    "else: \n",
    "    print(\"Atleast one number has boolean value as False\")"
   ]
  },
  {
   "cell_type": "markdown",
   "id": "f3936dfa",
   "metadata": {},
   "source": [
    "# Logical OR operator"
   ]
  },
  {
   "cell_type": "code",
   "execution_count": 3,
   "id": "685307da",
   "metadata": {},
   "outputs": [
    {
     "name": "stdout",
     "output_type": "stream",
     "text": [
      "Atleast one number has boolean value as True\n"
     ]
    }
   ],
   "source": [
    "a = 10\n",
    "b = 12\n",
    "c = 0\n",
    "if a or b or c: \n",
    "    print(\"Atleast one number has boolean value as True\") \n",
    "else: \n",
    "    print(\"All the numbers have boolean value as False\")"
   ]
  },
  {
   "cell_type": "markdown",
   "id": "4c740723",
   "metadata": {},
   "source": [
    "# Logical NOT operator"
   ]
  },
  {
   "cell_type": "code",
   "execution_count": 4,
   "id": "093800f4",
   "metadata": {},
   "outputs": [
    {
     "name": "stdout",
     "output_type": "stream",
     "text": [
      "10 is divisible by either 3 or 5\n"
     ]
    }
   ],
   "source": [
    "a = 10\n",
    " \n",
    "if not a: \n",
    "    print(\"Boolean value of a is True\") \n",
    "if not (a%3 == 0 or a%5 == 0): \n",
    "    print(\"10 is not divisible by either 3 or 5\") \n",
    "else: \n",
    "    print(\"10 is divisible by either 3 or 5\")"
   ]
  },
  {
   "cell_type": "code",
   "execution_count": null,
   "id": "5e102abc",
   "metadata": {},
   "outputs": [],
   "source": []
  },
  {
   "cell_type": "code",
   "execution_count": null,
   "id": "e2294e2a",
   "metadata": {},
   "outputs": [],
   "source": []
  },
  {
   "cell_type": "code",
   "execution_count": null,
   "id": "7c36e797",
   "metadata": {},
   "outputs": [],
   "source": []
  },
  {
   "cell_type": "code",
   "execution_count": null,
   "id": "82114ecd",
   "metadata": {},
   "outputs": [],
   "source": []
  },
  {
   "cell_type": "code",
   "execution_count": null,
   "id": "f0755f8c",
   "metadata": {},
   "outputs": [],
   "source": []
  },
  {
   "cell_type": "code",
   "execution_count": null,
   "id": "2b08d223",
   "metadata": {},
   "outputs": [],
   "source": []
  }
 ],
 "metadata": {
  "kernelspec": {
   "display_name": "Python 3 (ipykernel)",
   "language": "python",
   "name": "python3"
  },
  "language_info": {
   "codemirror_mode": {
    "name": "ipython",
    "version": 3
   },
   "file_extension": ".py",
   "mimetype": "text/x-python",
   "name": "python",
   "nbconvert_exporter": "python",
   "pygments_lexer": "ipython3",
   "version": "3.9.13"
  }
 },
 "nbformat": 4,
 "nbformat_minor": 5
}
